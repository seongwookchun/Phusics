{
 "cells": [
  {
   "cell_type": "code",
   "execution_count": 12,
   "metadata": {},
   "outputs": [
    {
     "name": "stdout",
     "output_type": "stream",
     "text": [
      "Column names are Project_practice01, , , \n",
      "\t works in the Main_Folder department, and was born in .\n",
      "\t works in the  department, and was born in main.py.\n",
      "\t works in the Images_Folder department, and was born in .\n",
      "\t works in the  department, and was born in top.png.\n",
      "\t works in the  department, and was born in bottom.png.\n",
      "\t works in the  department, and was born in left.png.\n",
      "\t works in the  department, and was born in right.png.\n",
      "\t works in the Libraries_Folder department, and was born in .\n",
      "\t works in the  department, and was born in Text_Capture_Folder.\n",
      "\t works in the  department, and was born in .\n",
      "\t works in the  department, and was born in Text_Recog_Folder.\n",
      "\t works in the  department, and was born in .\n",
      "\t works in the Documents_Folder department, and was born in .\n",
      "\t works in the  department, and was born in READ.ME.\n",
      "Processed 15 lines.\n"
     ]
    }
   ],
   "source": [
    "import csv\n",
    "\n",
    "with open('/home/comphy/CSW/Practice/csv_map.csv') as csv_file:\n",
    "    csv_reader = csv.reader(csv_file, delimiter=',')\n",
    "    line_count = 0\n",
    "    for row in csv_reader:\n",
    "        if line_count == 0:\n",
    "            print(f'Column names are {\", \".join(row)}')\n",
    "            line_count += 1\n",
    "        else:\n",
    "            print(f'\\t{row[0]} works in the {row[1]} department, and was born in {row[2]}.')\n",
    "            line_count += 1\n",
    "    print(f'Processed {line_count} lines.')\n",
    "                  "
   ]
  },
  {
   "cell_type": "code",
   "execution_count": null,
   "metadata": {},
   "outputs": [],
   "source": [
    "import os, sys\n",
    "\n",
    "# Path to be created\n",
    "path = \"/tmp/home/monthly/daily/hourly\"\n",
    "\n",
    "os.mkdir( path, 0755 );\n",
    "\n",
    "print \"Path is created\""
   ]
  },
  {
   "cell_type": "code",
   "execution_count": 17,
   "metadata": {},
   "outputs": [
    {
     "name": "stdout",
     "output_type": "stream",
     "text": [
      "Column names are Name, age, gender, height, weight\n",
      "\tJohn works in the 30 department, and was born in male.\n",
      "\tArya works in the 16 department, and was born in female.\n",
      "\tStark works in the 49 department, and was born in male.\n",
      "\tTyrion works in the 35 department, and was born in male.\n",
      "\tSansa works in the 19 department, and was born in female.\n",
      "Processed 6 lines.\n"
     ]
    }
   ],
   "source": [
    "with open('/home/comphy/CSW/Practice/csv_names.csv') as csv_file:\n",
    "    csv_reader = csv.reader(csv_file, delimiter=',')\n",
    "    line_count = 0\n",
    "    for row in csv_reader:\n",
    "        if line_count == 0:\n",
    "            print(f'Column names are {\", \".join(row)}')\n",
    "            line_count += 1\n",
    "        else:\n",
    "            print((f'\\t{row[0]} works in the {row[1]} department, and was born in {row[2]}.'))\n",
    "            line_count += 1\n",
    "    print(f'Processed {line_count} lines.')\n",
    "                  "
   ]
  }
 ],
 "metadata": {
  "kernelspec": {
   "display_name": "Python 3",
   "language": "python",
   "name": "python3"
  },
  "language_info": {
   "codemirror_mode": {
    "name": "ipython",
    "version": 3
   },
   "file_extension": ".py",
   "mimetype": "text/x-python",
   "name": "python",
   "nbconvert_exporter": "python",
   "pygments_lexer": "ipython3",
   "version": "3.7.1"
  }
 },
 "nbformat": 4,
 "nbformat_minor": 2
}
